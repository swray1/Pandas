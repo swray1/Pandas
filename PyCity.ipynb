{
 "cells": [
  {
   "cell_type": "markdown",
   "metadata": {},
   "source": [
    " <h1>PyCity Schools Analysis</h1>\n",
    " <h2> Trends and Obervations</h2>\n",
    " <ul>\n",
    "    <li>Overall passing rate seems to decrease as the budget per student increases. Indictating how much money is spent may not be a huge factor in the success of the students</li>\n",
    "    <li>Average math scores at District schools tend be a significant amount lower than the difference between District and Charter schools</li>\n",
    "</ul>\n",
    "    "
   ]
  },
  {
   "cell_type": "code",
   "execution_count": 1,
   "metadata": {},
   "outputs": [],
   "source": [
    "import pandas as pd\n",
    "import numpy as np\n"
   ]
  },
  {
   "cell_type": "code",
   "execution_count": 2,
   "metadata": {},
   "outputs": [],
   "source": [
    "#Read in two data files\n",
    "schools_data = pd.read_csv(\"/Users/stephenwray/Desktop/PythonPanda/schools_completecopy.csv\")\n",
    "students_data = pd.read_csv(\"/Users/stephenwray/Desktop/PythonPanda/students_complete.csv\")"
   ]
  },
  {
   "cell_type": "code",
   "execution_count": 40,
   "metadata": {},
   "outputs": [
    {
     "name": "stdout",
     "output_type": "stream",
     "text": [
      "   School ID             name_x      type  size   budget  Student ID  \\\n",
      "0          0  Huang High School  District  2917  1910635           0   \n",
      "1          0  Huang High School  District  2917  1910635           1   \n",
      "2          0  Huang High School  District  2917  1910635           2   \n",
      "3          0  Huang High School  District  2917  1910635           3   \n",
      "4          0  Huang High School  District  2917  1910635           4   \n",
      "\n",
      "              name_y gender grade             school  reading_score  \\\n",
      "0       Paul Bradley      M   9th  Huang High School             66   \n",
      "1       Victor Smith      M  12th  Huang High School             94   \n",
      "2    Kevin Rodriguez      M  12th  Huang High School             90   \n",
      "3  Dr. Richard Scott      M  12th  Huang High School             67   \n",
      "4         Bonnie Ray      F   9th  Huang High School             97   \n",
      "\n",
      "   math_score  \n",
      "0          79  \n",
      "1          61  \n",
      "2          60  \n",
      "3          58  \n",
      "4          84  \n"
     ]
    }
   ],
   "source": [
    "#Merge the two dataframes into one dataframe called total_data\n",
    "total_data = pd.merge(schools_data, students_data, left_on=\"name\", right_on=\"school\")\n",
    "print(total_data.head())"
   ]
  },
  {
   "cell_type": "markdown",
   "metadata": {},
   "source": [
    "<h2>District Summary</h2>"
   ]
  },
  {
   "cell_type": "code",
   "execution_count": 4,
   "metadata": {},
   "outputs": [],
   "source": [
    "#Create summary table variables \n",
    "school_total = len(total_data.school.unique())\n",
    "student_total = total_data.name_y.count()\n",
    "budget_total = '${:,.2f}'.format(total_data.budget.sum())\n",
    "avg_math = np.round(total_data.math_score.mean(),2)\n",
    "avg_read = np.round(total_data.reading_score.mean(),2)\n",
    "avg_combined = np.round(np.add(avg_math, avg_read)/2,2)"
   ]
  },
  {
   "cell_type": "code",
   "execution_count": 5,
   "metadata": {},
   "outputs": [],
   "source": [
    "#Create Math passing percentage variable\n",
    "passed_math_arr = total_data[\"math_score\"] >= 70\n",
    "passed_math = passed_math_arr.sum()\n",
    "passed_math_per = (np.round(passed_math / student_total, 4))\n",
    "passed_math_per_form = \"{:,.2%}\".format(passed_math_per)"
   ]
  },
  {
   "cell_type": "code",
   "execution_count": 6,
   "metadata": {},
   "outputs": [],
   "source": [
    "# Create reading passing percentage variable\n",
    "passed_read_arr = total_data[\"reading_score\"] >= 70\n",
    "passed_read = passed_read_arr.sum()\n",
    "passed_read_per = np.round(passed_read / student_total, 4)\n",
    "passed_read_per_form = \"{:,.2%}\".format(passed_read_per)"
   ]
  },
  {
   "cell_type": "code",
   "execution_count": 7,
   "metadata": {},
   "outputs": [],
   "source": [
    "# Create overall passing percentage\n",
    "avg_score = \"{:,.2%}\".format((passed_read_per + passed_math_per) / 2)"
   ]
  },
  {
   "cell_type": "code",
   "execution_count": 8,
   "metadata": {},
   "outputs": [
    {
     "name": "stdout",
     "output_type": "stream",
     "text": [
      "                                         0\n",
      "Total Schools                           15\n",
      "Total Students                       39170\n",
      "Total Budget            $82,932,329,558.00\n",
      "Average Math Score                   78.99\n",
      "Average Reading Score                81.88\n",
      "% Passing Math                      74.98%\n",
      "% Passing Reading                   85.81%\n",
      "% Overall Passing Rate              80.39%\n"
     ]
    }
   ],
   "source": [
    "# Create a summary table and return it\n",
    "column_head = [\"Total Schools\",\"Total Students\",\"Total Budget\",\"Average Math Score\",\"Average Reading Score\",\"% Passing Math\",\"% Passing Reading\",\"% Overall Passing Rate\"]\n",
    "sum_list = [school_total,student_total,budget_total,avg_math,avg_read,passed_math_per_form,passed_read_per_form, avg_score]\n",
    "dist_sum = pd.DataFrame(data = sum_list, index= column_head)\n",
    "print(dist_sum)"
   ]
  },
  {
   "cell_type": "markdown",
   "metadata": {},
   "source": [
    "<h2>School Summary</h2>"
   ]
  },
  {
   "cell_type": "code",
   "execution_count": 9,
   "metadata": {},
   "outputs": [
    {
     "name": "stdout",
     "output_type": "stream",
     "text": [
      "                      School Type    Size Total School Budget  \\\n",
      "school                                                          \n",
      "Bailey High School     [District]  [4976]           [3124928]   \n",
      "Cabrera High School     [Charter]  [1858]           [1081356]   \n",
      "Figueroa High School   [District]  [2949]           [1884411]   \n",
      "Ford High School       [District]  [2739]           [1763916]   \n",
      "Griffin High School     [Charter]  [1468]            [917500]   \n",
      "Hernandez High School  [District]  [4635]           [3022020]   \n",
      "Holden High School      [Charter]   [427]            [248087]   \n",
      "Huang High School      [District]  [2917]           [1910635]   \n",
      "Johnson High School    [District]  [4761]           [3094650]   \n",
      "Pena High School        [Charter]   [962]            [585858]   \n",
      "Rodriguez High School  [District]  [3999]           [2547363]   \n",
      "Shelton High School     [Charter]  [1761]           [1056600]   \n",
      "Thomas High School      [Charter]  [1635]           [1043130]   \n",
      "Wilson High School      [Charter]  [2283]           [1319574]   \n",
      "Wright High School      [Charter]  [1800]           [1049400]   \n",
      "\n",
      "                      Budget Per Student  Average Math Score  \\\n",
      "school                                                         \n",
      "Bailey High School               [628.0]           77.048432   \n",
      "Cabrera High School              [582.0]           83.061895   \n",
      "Figueroa High School             [639.0]           76.711767   \n",
      "Ford High School                 [644.0]           77.102592   \n",
      "Griffin High School              [625.0]           83.351499   \n",
      "Hernandez High School            [652.0]           77.289752   \n",
      "Holden High School               [581.0]           83.803279   \n",
      "Huang High School                [655.0]           76.629414   \n",
      "Johnson High School              [650.0]           77.072464   \n",
      "Pena High School                 [609.0]           83.839917   \n",
      "Rodriguez High School            [637.0]           76.842711   \n",
      "Shelton High School              [600.0]           83.359455   \n",
      "Thomas High School               [638.0]           83.418349   \n",
      "Wilson High School               [578.0]           83.274201   \n",
      "Wright High School               [583.0]           83.682222   \n",
      "\n",
      "                       Average Reading Score        % Passing Math  \\\n",
      "school                                                               \n",
      "Bailey High School                 81.033963  [0.6668006430868167]   \n",
      "Cabrera High School                83.975780  [0.9413347685683531]   \n",
      "Figueroa High School               81.158020  [0.6598847066802306]   \n",
      "Ford High School                   80.746258  [0.6830960204454181]   \n",
      "Griffin High School                83.816757  [0.9339237057220708]   \n",
      "Hernandez High School              80.934412   [0.667529665587918]   \n",
      "Holden High School                 83.814988  [0.9250585480093677]   \n",
      "Huang High School                  81.182722  [0.6568392183750429]   \n",
      "Johnson High School                80.966394  [0.6605755093467759]   \n",
      "Pena High School                   84.044699  [0.9459459459459459]   \n",
      "Rodriguez High School              80.744686  [0.6636659164791198]   \n",
      "Shelton High School                83.725724   [0.938671209540034]   \n",
      "Thomas High School                 83.848930  [0.9327217125382263]   \n",
      "Wilson High School                 83.989488   [0.938677179150241]   \n",
      "Wright High School                 83.955000  [0.9333333333333333]   \n",
      "\n",
      "                          % Passing Reading % Overall Passing Rate  \n",
      "school                                                              \n",
      "Bailey High School     [0.8193327974276527]   [0.7430667202572347]  \n",
      "Cabrera High School    [0.9703982777179763]   [0.9558665231431647]  \n",
      "Figueroa High School   [0.8073923363852153]    [0.733638521532723]  \n",
      "Ford High School       [0.7929901423877328]   [0.7380430814165755]  \n",
      "Griffin High School    [0.9713896457765667]   [0.9526566757493188]  \n",
      "Hernandez High School  [0.8086299892125135]   [0.7380798274002158]  \n",
      "Holden High School     [0.9625292740046838]   [0.9437939110070257]  \n",
      "Huang High School      [0.8131642098045938]   [0.7350017140898184]  \n",
      "Johnson High School    [0.8122243226212981]    [0.736399915984037]  \n",
      "Pena High School       [0.9594594594594594]   [0.9527027027027026]  \n",
      "Rodriguez High School  [0.8022005501375343]    [0.732933233308327]  \n",
      "Shelton High School    [0.9585462805224304]   [0.9486087450312322]  \n",
      "Thomas High School     [0.9730886850152906]   [0.9529051987767585]  \n",
      "Wilson High School     [0.9653964082347788]   [0.9520367936925098]  \n",
      "Wright High School     [0.9661111111111111]   [0.9497222222222222]  \n"
     ]
    }
   ],
   "source": [
    "#Create a summary table by School\n",
    "school_summdata = total_data.groupby(\"school\")\n",
    "school_SD_type = school_summdata['type'].unique()\n",
    "first_col = {\"School Type\": school_SD_type}\n",
    "summ_table = pd.DataFrame(data = first_col)\n",
    "summ_table[\"Size\"] = school_summdata[\"size\"].unique()\n",
    "summ_table[\"Total School Budget\"] = school_summdata['budget'].unique()\n",
    "summ_table[\"Budget Per Student\"] = np.divide(school_summdata['budget'].unique(),school_summdata[\"size\"].unique())\n",
    "summ_table[\"Average Math Score\"] = school_summdata[\"math_score\"].mean()\n",
    "summ_table[\"Average Reading Score\"] = school_summdata[\"reading_score\"].mean()\n",
    "summ_table[\"% Passing Math\"] = total_data[total_data['math_score'] >= 70].groupby('school')['Student ID'].count()/school_summdata['size'].unique() \n",
    "summ_table[\"% Passing Reading\"] = total_data[total_data['reading_score'] >= 70].groupby('school')['Student ID'].count()/school_summdata['size'].unique()\n",
    "summ_table[\"% Overall Passing Rate\"] = (summ_table[\"% Passing Math\"] + summ_table[\"% Passing Reading\"]) / 2\n",
    "print(summ_table)"
   ]
  },
  {
   "cell_type": "markdown",
   "metadata": {},
   "source": [
    "<h2>Top 5 Schools</h2>"
   ]
  },
  {
   "cell_type": "code",
   "execution_count": 10,
   "metadata": {},
   "outputs": [
    {
     "name": "stdout",
     "output_type": "stream",
     "text": [
      "                    School Type    Size Total School Budget  \\\n",
      "school                                                        \n",
      "Cabrera High School   [Charter]  [1858]           [1081356]   \n",
      "Thomas High School    [Charter]  [1635]           [1043130]   \n",
      "Pena High School      [Charter]   [962]            [585858]   \n",
      "Griffin High School   [Charter]  [1468]            [917500]   \n",
      "Wilson High School    [Charter]  [2283]           [1319574]   \n",
      "\n",
      "                    Budget Per Student  Average Math Score  \\\n",
      "school                                                       \n",
      "Cabrera High School            [582.0]           83.061895   \n",
      "Thomas High School             [638.0]           83.418349   \n",
      "Pena High School               [609.0]           83.839917   \n",
      "Griffin High School            [625.0]           83.351499   \n",
      "Wilson High School             [578.0]           83.274201   \n",
      "\n",
      "                     Average Reading Score        % Passing Math  \\\n",
      "school                                                             \n",
      "Cabrera High School              83.975780  [0.9413347685683531]   \n",
      "Thomas High School               83.848930  [0.9327217125382263]   \n",
      "Pena High School                 84.044699  [0.9459459459459459]   \n",
      "Griffin High School              83.816757  [0.9339237057220708]   \n",
      "Wilson High School               83.989488   [0.938677179150241]   \n",
      "\n",
      "                        % Passing Reading % Overall Passing Rate  \n",
      "school                                                            \n",
      "Cabrera High School  [0.9703982777179763]   [0.9558665231431647]  \n",
      "Thomas High School   [0.9730886850152906]   [0.9529051987767585]  \n",
      "Pena High School     [0.9594594594594594]   [0.9527027027027026]  \n",
      "Griffin High School  [0.9713896457765667]   [0.9526566757493188]  \n",
      "Wilson High School   [0.9653964082347788]   [0.9520367936925098]  \n"
     ]
    }
   ],
   "source": [
    "# Top 5 schools by passing rate\n",
    "best_table = pd.DataFrame(summ_table)\n",
    "best_schools = best_table.sort_values(by=\"% Overall Passing Rate\", ascending = False)\n",
    "print(best_schools.head(5))"
   ]
  },
  {
   "cell_type": "markdown",
   "metadata": {},
   "source": [
    "<h2>Bottom 5 Schools</h2>"
   ]
  },
  {
   "cell_type": "code",
   "execution_count": 11,
   "metadata": {},
   "outputs": [
    {
     "name": "stdout",
     "output_type": "stream",
     "text": [
      "                      School Type    Size Total School Budget  \\\n",
      "school                                                          \n",
      "Rodriguez High School  [District]  [3999]           [2547363]   \n",
      "Figueroa High School   [District]  [2949]           [1884411]   \n",
      "Huang High School      [District]  [2917]           [1910635]   \n",
      "Johnson High School    [District]  [4761]           [3094650]   \n",
      "Ford High School       [District]  [2739]           [1763916]   \n",
      "\n",
      "                      Budget Per Student  Average Math Score  \\\n",
      "school                                                         \n",
      "Rodriguez High School            [637.0]           76.842711   \n",
      "Figueroa High School             [639.0]           76.711767   \n",
      "Huang High School                [655.0]           76.629414   \n",
      "Johnson High School              [650.0]           77.072464   \n",
      "Ford High School                 [644.0]           77.102592   \n",
      "\n",
      "                       Average Reading Score        % Passing Math  \\\n",
      "school                                                               \n",
      "Rodriguez High School              80.744686  [0.6636659164791198]   \n",
      "Figueroa High School               81.158020  [0.6598847066802306]   \n",
      "Huang High School                  81.182722  [0.6568392183750429]   \n",
      "Johnson High School                80.966394  [0.6605755093467759]   \n",
      "Ford High School                   80.746258  [0.6830960204454181]   \n",
      "\n",
      "                          % Passing Reading % Overall Passing Rate  \n",
      "school                                                              \n",
      "Rodriguez High School  [0.8022005501375343]    [0.732933233308327]  \n",
      "Figueroa High School   [0.8073923363852153]    [0.733638521532723]  \n",
      "Huang High School      [0.8131642098045938]   [0.7350017140898184]  \n",
      "Johnson High School    [0.8122243226212981]    [0.736399915984037]  \n",
      "Ford High School       [0.7929901423877328]   [0.7380430814165755]  \n"
     ]
    }
   ],
   "source": [
    "#Bottom 5 schools by passing rate\n",
    "best_schools = best_table.sort_values(by=\"% Overall Passing Rate\")\n",
    "print(best_schools.head(5))"
   ]
  },
  {
   "cell_type": "markdown",
   "metadata": {},
   "source": [
    "<h2>Math Scores by Grade</h2>"
   ]
  },
  {
   "cell_type": "code",
   "execution_count": 12,
   "metadata": {},
   "outputs": [
    {
     "name": "stdout",
     "output_type": "stream",
     "text": [
      "grade  school               \n",
      "10th   Bailey High School       76.996772\n",
      "       Cabrera High School      83.154506\n",
      "       Figueroa High School     76.539974\n",
      "       Ford High School         77.672316\n",
      "       Griffin High School      84.229064\n",
      "       Hernandez High School    77.337408\n",
      "       Holden High School       83.429825\n",
      "       Huang High School        75.908735\n",
      "       Johnson High School      76.691117\n",
      "       Pena High School         83.372000\n",
      "       Rodriguez High School    76.612500\n",
      "       Shelton High School      82.917411\n",
      "       Thomas High School       83.087886\n",
      "       Wilson High School       83.724422\n",
      "       Wright High School       84.010288\n",
      "11th   Bailey High School       77.515588\n",
      "       Cabrera High School      82.765560\n",
      "       Figueroa High School     76.884344\n",
      "       Ford High School         76.918058\n",
      "       Griffin High School      83.842105\n",
      "       Hernandez High School    77.136029\n",
      "       Holden High School       85.000000\n",
      "       Huang High School        76.446602\n",
      "       Johnson High School      77.491653\n",
      "       Pena High School         84.328125\n",
      "       Rodriguez High School    76.395626\n",
      "       Shelton High School      83.383495\n",
      "       Thomas High School       83.498795\n",
      "       Wilson High School       83.195326\n",
      "       Wright High School       83.836782\n",
      "12th   Bailey High School       76.492218\n",
      "       Cabrera High School      83.277487\n",
      "       Figueroa High School     77.151369\n",
      "       Ford High School         76.179963\n",
      "       Griffin High School      83.356164\n",
      "       Hernandez High School    77.186567\n",
      "       Holden High School       82.855422\n",
      "       Huang High School        77.225641\n",
      "       Johnson High School      76.863248\n",
      "       Pena High School         84.121547\n",
      "       Rodriguez High School    77.690748\n",
      "       Shelton High School      83.778976\n",
      "       Thomas High School       83.497041\n",
      "       Wilson High School       83.035794\n",
      "       Wright High School       83.644986\n",
      "9th    Bailey High School       77.083676\n",
      "       Cabrera High School      83.094697\n",
      "       Figueroa High School     76.403037\n",
      "       Ford High School         77.361345\n",
      "       Griffin High School      82.044010\n",
      "       Hernandez High School    77.438495\n",
      "       Holden High School       83.787402\n",
      "       Huang High School        77.027251\n",
      "       Johnson High School      77.187857\n",
      "       Pena High School         83.625455\n",
      "       Rodriguez High School    76.859966\n",
      "       Shelton High School      83.420755\n",
      "       Thomas High School       83.590022\n",
      "       Wilson High School       83.085578\n",
      "       Wright High School       83.264706\n",
      "Name: math_score, dtype: float64\n"
     ]
    }
   ],
   "source": [
    "school_grade_data = total_data.groupby(['grade', 'school']).mean()\n",
    "print(school_grade_data[\"math_score\"])"
   ]
  },
  {
   "cell_type": "markdown",
   "metadata": {},
   "source": [
    "<h2>Reading Scores by Grade</h2>"
   ]
  },
  {
   "cell_type": "code",
   "execution_count": 13,
   "metadata": {},
   "outputs": [
    {
     "name": "stdout",
     "output_type": "stream",
     "text": [
      "grade  school               \n",
      "10th   Bailey High School       80.907183\n",
      "       Cabrera High School      84.253219\n",
      "       Figueroa High School     81.408912\n",
      "       Ford High School         81.262712\n",
      "       Griffin High School      83.706897\n",
      "       Hernandez High School    80.660147\n",
      "       Holden High School       83.324561\n",
      "       Huang High School        81.512386\n",
      "       Johnson High School      80.773431\n",
      "       Pena High School         83.612000\n",
      "       Rodriguez High School    80.629808\n",
      "       Shelton High School      83.441964\n",
      "       Thomas High School       84.254157\n",
      "       Wilson High School       84.021452\n",
      "       Wright High School       83.812757\n",
      "11th   Bailey High School       80.945643\n",
      "       Cabrera High School      83.788382\n",
      "       Figueroa High School     80.640339\n",
      "       Ford High School         80.403642\n",
      "       Griffin High School      84.288089\n",
      "       Hernandez High School    81.396140\n",
      "       Holden High School       83.815534\n",
      "       Huang High School        81.417476\n",
      "       Johnson High School      80.616027\n",
      "       Pena High School         84.335938\n",
      "       Rodriguez High School    80.864811\n",
      "       Shelton High School      84.373786\n",
      "       Thomas High School       83.585542\n",
      "       Wilson High School       83.764608\n",
      "       Wright High School       84.156322\n",
      "12th   Bailey High School       80.912451\n",
      "       Cabrera High School      84.287958\n",
      "       Figueroa High School     81.384863\n",
      "       Ford High School         80.662338\n",
      "       Griffin High School      84.013699\n",
      "       Hernandez High School    80.857143\n",
      "       Holden High School       84.698795\n",
      "       Huang High School        80.305983\n",
      "       Johnson High School      81.227564\n",
      "       Pena High School         84.591160\n",
      "       Rodriguez High School    80.376426\n",
      "       Shelton High School      82.781671\n",
      "       Thomas High School       83.831361\n",
      "       Wilson High School       84.317673\n",
      "       Wright High School       84.073171\n",
      "9th    Bailey High School       81.303155\n",
      "       Cabrera High School      83.676136\n",
      "       Figueroa High School     81.198598\n",
      "       Ford High School         80.632653\n",
      "       Griffin High School      83.369193\n",
      "       Hernandez High School    80.866860\n",
      "       Holden High School       83.677165\n",
      "       Huang High School        81.290284\n",
      "       Johnson High School      81.260714\n",
      "       Pena High School         83.807273\n",
      "       Rodriguez High School    80.993127\n",
      "       Shelton High School      84.122642\n",
      "       Thomas High School       83.728850\n",
      "       Wilson High School       83.939778\n",
      "       Wright High School       83.833333\n",
      "Name: reading_score, dtype: float64\n"
     ]
    }
   ],
   "source": [
    "print(school_grade_data[\"reading_score\"])"
   ]
  },
  {
   "cell_type": "markdown",
   "metadata": {},
   "source": [
    "<h2>Scores by School Spending</h2>"
   ]
  },
  {
   "cell_type": "code",
   "execution_count": 19,
   "metadata": {},
   "outputs": [
    {
     "name": "stdout",
     "output_type": "stream",
     "text": [
      "                    Average Math Score  Average Reading Score  \\\n",
      "Budget Per Student                                              \n",
      "(0, 585]                     83.455399              83.933814   \n",
      "(585, 615]                   83.599686              83.885211   \n",
      "(615, 645]                   79.079225              81.891436   \n",
      "(645, 675]                   76.997210              81.027843   \n",
      "\n",
      "                   % Overall Passing Rate        % Passing Math  \\\n",
      "Budget Per Student                                                \n",
      "(0, 585]             [0.9503548625162306]  [0.9346009572653238]   \n",
      "(585, 615]           [0.9506557238669674]    [0.94230857774299]   \n",
      "(615, 645]           [0.8088739051734896]  [0.7566821174919803]   \n",
      "(645, 675]           [0.7364938191580238]  [0.6616481311032456]   \n",
      "\n",
      "                       % Passing Reading  \n",
      "Budget Per Student                        \n",
      "(0, 585]            [0.9661087677671375]  \n",
      "(585, 615]           [0.959002869990945]  \n",
      "(615, 645]          [0.8610656928549988]  \n",
      "(645, 675]          [0.8113395072128018]  \n"
     ]
    }
   ],
   "source": [
    "spending_bins = [0, 585, 615, 645, 675]\n",
    "group_names = [\"<$585\", \"$585-615\", \"$615-645\", \"$645-675\"]\n",
    "budget_series = summ_table.groupby(pd.cut(summ_table[\"Budget Per Student\"], bins=spending_bins))\n",
    "budget_opr = budget_series[\"% Overall Passing Rate\"].apply(np.mean, axis = 0)\n",
    "budget_scores = budget_series.mean()\n",
    "bud = budget_scores.join(budget_opr, how='left')\n",
    "budget_math = budget_series[\"% Passing Math\"].apply(np.mean, axis = 0)\n",
    "budget_1 = bud.join(budget_math, how='left')\n",
    "budget_read = budget_series[\"% Passing Reading\"].apply(np.mean, axis = 0)\n",
    "budget_tot = budget_1.join(budget_read, how='left')\n",
    "print(budget_tot)\n",
    "\n"
   ]
  },
  {
   "cell_type": "markdown",
   "metadata": {},
   "source": [
    "<h2> Scores by School Size</h2>"
   ]
  },
  {
   "cell_type": "code",
   "execution_count": 25,
   "metadata": {},
   "outputs": [
    {
     "name": "stdout",
     "output_type": "stream",
     "text": [
      "              Average Math Score  Average Reading Score  \\\n",
      "Size                                                      \n",
      "(0, 1000]              83.821598              83.929843   \n",
      "(1000, 2000]           83.374684              83.864438   \n",
      "(2000, 5000]           77.746417              81.344493   \n",
      "\n",
      "             % Overall Passing Rate        % Passing Math  \\\n",
      "Size                                                        \n",
      "(0, 1000]      [0.9482483068548642]  [0.9355022469776568]   \n",
      "(1000, 2000]   [0.9519518729845393]  [0.9359969459404036]   \n",
      "(2000, 5000]   [0.7636499759601801]  [0.6996336073939454]   \n",
      "\n",
      "                 % Passing Reading  \n",
      "Size                                \n",
      "(0, 1000]     [0.9609943667320716]  \n",
      "(1000, 2000]  [0.9679068000286751]  \n",
      "(2000, 5000]   [0.827666344526415]  \n"
     ]
    }
   ],
   "source": [
    "size_bins = [0, 1000, 2000, 5000]\n",
    "group_names = [\"Small (<1000)\", \"Medium (1000-2000)\", \"Large (2000-5000)\"]\n",
    "size_series = summ_table.groupby(pd.cut(summ_table[\"Size\"], bins=size_bins))\n",
    "size_opr = size_series[\"% Overall Passing Rate\"].apply(np.mean, axis = 0)\n",
    "size_scores = size_series.mean()\n",
    "siz = size_scores.join(size_opr, how='left')\n",
    "size_math = size_series[\"% Passing Math\"].apply(np.mean, axis = 0)\n",
    "size_1 = siz.join(size_math, how='left')\n",
    "size_read = size_series[\"% Passing Reading\"].apply(np.mean, axis = 0)\n",
    "size_tot = size_1.join(size_read, how='left')\n",
    "print(size_tot)"
   ]
  },
  {
   "cell_type": "code",
   "execution_count": null,
   "metadata": {},
   "outputs": [],
   "source": []
  }
 ],
 "metadata": {
  "kernelspec": {
   "display_name": "Python 3",
   "language": "python",
   "name": "python3"
  },
  "language_info": {
   "codemirror_mode": {
    "name": "ipython",
    "version": 3
   },
   "file_extension": ".py",
   "mimetype": "text/x-python",
   "name": "python",
   "nbconvert_exporter": "python",
   "pygments_lexer": "ipython3",
   "version": "3.6.4"
  }
 },
 "nbformat": 4,
 "nbformat_minor": 2
}
